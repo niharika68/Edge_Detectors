{
 "cells": [
  {
   "cell_type": "code",
   "execution_count": 121,
   "metadata": {},
   "outputs": [],
   "source": [
    "from PIL import Image\n",
    "import numpy as np\n",
    "import math\n",
    "import scipy.misc"
   ]
  },
  {
   "cell_type": "code",
   "execution_count": 122,
   "metadata": {},
   "outputs": [],
   "source": [
    "def sobel(img,kernel_sobelx,kernel_sobely):\n",
    "    rows,cols=img.shape\n",
    "    \n",
    "    sobel_image=np.zeros([rows,cols])\n",
    "    for i in np.arange(1,rows-1):\n",
    "         for j in np.arange(1,cols-1):\n",
    "                Gx=np.sum(kernel_sobelx*img[i-1:i+2,j-1:j+2])\n",
    "                Gy=np.sum(kernel_sobely*img[i-1:i+2,j-1:j+2])\n",
    "                sobel_image[i,j]=((Gx*Gx)+(Gy*Gy))**0.5\n",
    "                print(np.arctan2(Gx,Gy))\n",
    "    return sobel_image"
   ]
  },
  {
   "cell_type": "code",
   "execution_count": 123,
   "metadata": {},
   "outputs": [
    {
     "name": "stderr",
     "output_type": "stream",
     "text": [
      "/Library/Frameworks/Python.framework/Versions/3.7/lib/python3.7/site-packages/ipykernel_launcher.py:6: DeprecationWarning: `imsave` is deprecated!\n",
      "`imsave` is deprecated in SciPy 1.0.0, and will be removed in 1.2.0.\n",
      "Use ``imageio.imwrite`` instead.\n",
      "  \n"
     ]
    }
   ],
   "source": [
    "img = Image.open('apple.jpg')\n",
    "img2array = np.array(img)   \n",
    "kernel_sobelx= np.array(([-1, 0, 1],[-2, 0, 2],[-1, 0, 1]), dtype=\"int\")\n",
    "kernel_sobely= np.array(([-1, -2, -1],[0, 0, 0],[1, 2, 1]), dtype=\"int\")\n",
    "sobel_image=sobel(img2array,kernel_sobelx,kernel_sobely)\n",
    "scipy.misc.imsave('sobel_image.jpg', sobel_image)\n",
    "final_output=Image.fromarray(sobel_image)\n",
    "final_output.show()"
   ]
  },
  {
   "cell_type": "code",
   "execution_count": null,
   "metadata": {},
   "outputs": [],
   "source": []
  },
  {
   "cell_type": "code",
   "execution_count": null,
   "metadata": {},
   "outputs": [],
   "source": []
  }
 ],
 "metadata": {
  "kernelspec": {
   "display_name": "Python 3",
   "language": "python",
   "name": "python3"
  },
  "language_info": {
   "codemirror_mode": {
    "name": "ipython",
    "version": 3
   },
   "file_extension": ".py",
   "mimetype": "text/x-python",
   "name": "python",
   "nbconvert_exporter": "python",
   "pygments_lexer": "ipython3",
   "version": "3.7.2"
  }
 },
 "nbformat": 4,
 "nbformat_minor": 2
}
