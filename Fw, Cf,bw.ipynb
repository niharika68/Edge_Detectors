{
 "cells": [
  {
   "cell_type": "code",
   "execution_count": 5,
   "metadata": {},
   "outputs": [
    {
     "name": "stderr",
     "output_type": "stream",
     "text": [
      "/Library/Frameworks/Python.framework/Versions/3.7/lib/python3.7/site-packages/ipykernel_launcher.py:30: DeprecationWarning: `imsave` is deprecated!\n",
      "`imsave` is deprecated in SciPy 1.0.0, and will be removed in 1.2.0.\n",
      "Use ``imageio.imwrite`` instead.\n",
      "/Library/Frameworks/Python.framework/Versions/3.7/lib/python3.7/site-packages/ipykernel_launcher.py:32: DeprecationWarning: `imsave` is deprecated!\n",
      "`imsave` is deprecated in SciPy 1.0.0, and will be removed in 1.2.0.\n",
      "Use ``imageio.imwrite`` instead.\n",
      "/Library/Frameworks/Python.framework/Versions/3.7/lib/python3.7/site-packages/ipykernel_launcher.py:34: DeprecationWarning: `imsave` is deprecated!\n",
      "`imsave` is deprecated in SciPy 1.0.0, and will be removed in 1.2.0.\n",
      "Use ``imageio.imwrite`` instead.\n"
     ]
    }
   ],
   "source": [
    "from PIL import Image\n",
    "import numpy as np\n",
    "import math\n",
    "import scipy.misc\n",
    "\n",
    "def common_convolute(img,kernel_common):\n",
    "    rows,cols=img.shape\n",
    "    \n",
    "    op_image=np.zeros([rows,cols])\n",
    "    for i in np.arange(1,rows-1):\n",
    "         for j in np.arange(1,cols-1):\n",
    "                op_image[i,j]=np.sum(kernel_common*img[i-1:i+2,j-1:j+2])\n",
    "                \n",
    "    return op_image\n",
    "\n",
    "img = Image.open('apple.jpg')\n",
    "img2array = np.array(img)   \n",
    "kernel_fw= np.array(([0, 0, 0],[0, -10, 0],[0, 10, 0]), dtype=\"int\")\n",
    "kernel_bw= np.array(([0, 0, 0],[0, 10, 0],[0, -10, 0]), dtype=\"int\")\n",
    "kernel_cfd= np.array(([0, 10, 0],[0, 0, 0],[0, -10, 0]), dtype=\"int\")\n",
    "forward_diff=common_convolute(img2array,kernel_fw)\n",
    "backward_diff=common_convolute(img2array,kernel_bw)\n",
    "central_diff=common_convolute(img2array,kernel_cfd)\n",
    "\n",
    "final_output1=Image.fromarray(forward_diff)\n",
    "final_output2=Image.fromarray(backward_diff)\n",
    "final_output3=Image.fromarray(central_diff)\n",
    "\n",
    "final_output1.show()\n",
    "scipy.misc.imsave('fwd.jpg', forward_diff)\n",
    "final_output2.show()\n",
    "scipy.misc.imsave('bckw.jpg', backward_diff)\n",
    "final_output3.show()\n",
    "scipy.misc.imsave('cfd.jpg', central_diff)"
   ]
  },
  {
   "cell_type": "code",
   "execution_count": null,
   "metadata": {},
   "outputs": [],
   "source": []
  }
 ],
 "metadata": {
  "kernelspec": {
   "display_name": "Python 3",
   "language": "python",
   "name": "python3"
  },
  "language_info": {
   "codemirror_mode": {
    "name": "ipython",
    "version": 3
   },
   "file_extension": ".py",
   "mimetype": "text/x-python",
   "name": "python",
   "nbconvert_exporter": "python",
   "pygments_lexer": "ipython3",
   "version": "3.7.2"
  }
 },
 "nbformat": 4,
 "nbformat_minor": 2
}
